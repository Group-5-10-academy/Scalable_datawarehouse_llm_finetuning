{
 "cells": [
  {
   "cell_type": "code",
   "execution_count": 36,
   "metadata": {},
   "outputs": [],
   "source": [
    "import warnings\n",
    "warnings.filterwarnings(\"ignore\")"
   ]
  },
  {
   "cell_type": "code",
   "execution_count": 40,
   "metadata": {},
   "outputs": [],
   "source": [
    "import pandas as pd"
   ]
  },
  {
   "cell_type": "code",
   "execution_count": 41,
   "metadata": {},
   "outputs": [],
   "source": [
    "df = pd.read_csv(\"./data/train.csv\")"
   ]
  },
  {
   "cell_type": "markdown",
   "metadata": {},
   "source": [
    "Normalize Geez and Arabic Number Mismatch\n",
    "\n",
    "normalize arabic numbers to Geez form. For example, 1=፩, 2=፪, etc."
   ]
  },
  {
   "cell_type": "code",
   "execution_count": 72,
   "metadata": {},
   "outputs": [],
   "source": [
    "def arabic2geez(arabicNumber):\n",
    "        ETHIOPIC_ONE= 0x1369\n",
    "        ETHIOPIC_TEN= 0x1372\n",
    "        ETHIOPIC_HUNDRED= 0x137B\n",
    "        ETHIOPIC_TEN_THOUSAND = 0x137C\n",
    "        arabicNumber=str(arabicNumber)\n",
    "        n = len(arabicNumber)-1 #length of arabic number\n",
    "        if n%2 == 0:\n",
    "            arabicNumber = \"0\" + arabicNumber\n",
    "            n+=1\n",
    "        arabicBigrams=[arabicNumber[i:i+2] for i in range(0,n,2)] #spliting bigrams\n",
    "        reversedArabic=arabicBigrams[::-1] #reversing list content\n",
    "        geez=[]\n",
    "        for index,pair in enumerate(reversedArabic):\n",
    "            curr_geez=''\n",
    "            artens=pair[0]#arrabic tens\n",
    "            arones=pair[1]#arrabic ones\n",
    "            amtens=''\n",
    "            amones=''\n",
    "            if artens!='0':\n",
    "                amtens=str(chr((int(artens) + (ETHIOPIC_TEN - 1)))) #replacing with Geez 10s [፲,፳,፴, ...]\n",
    "            else:\n",
    "                if arones=='0': #for 00 cases\n",
    "                    continue\n",
    "            if arones!='0':       \n",
    "                    amones=str(chr((int(arones) + (ETHIOPIC_ONE - 1)))) #replacing with Geez Ones [፩,፪,፫, ...]\n",
    "            if index>0:\n",
    "                if index%2!= 0: #odd index\n",
    "                    curr_geez=amtens+amones+ str(chr(ETHIOPIC_HUNDRED)) #appending ፻\n",
    "                else: #even index\n",
    "                    curr_geez=amtens+amones+ str(chr(ETHIOPIC_TEN_THOUSAND)) # appending ፼\n",
    "            else: #last bigram (right most part)\n",
    "                curr_geez=amtens+amones\n",
    "            \n",
    "            geez.append(curr_geez)\n",
    "        \n",
    "        geez=''.join(geez[::-1])\n",
    "        if geez.startswith('፩፻') or geez.startswith('፩፼'):\n",
    "            geez=geez[1:]\n",
    "        \n",
    "        if len(arabicNumber)>=7:\n",
    "            end_zeros=''.join(re.findall('([0]+)$',arabicNumber)[0:])\n",
    "            i=int(len(end_zeros)/3)\n",
    "            if len(end_zeros)>=(3*i):\n",
    "                if i>=3:\n",
    "                    i-=1\n",
    "                for thoushand in range(i-1):\n",
    "                    print(thoushand)                \n",
    "                    geez+='፼'\n",
    "        return geez\n",
    "\n",
    "def getExpandedNumber(number):\n",
    "    if '.' not in str(number):\n",
    "        return arabic2geez(number)\n",
    "    else:\n",
    "        num,decimal=str(number).split('.')\n",
    "        if decimal.startswith('0'):\n",
    "            decimal=decimal[1:]\n",
    "            dot=' ነጥብ ዜሮ '\n",
    "        else:\n",
    "            dot=' ነጥብ '\n",
    "        return arabic2geez(num) + dot + arabic2geez(decimal)"
   ]
  },
  {
   "cell_type": "code",
   "execution_count": 70,
   "metadata": {},
   "outputs": [
    {
     "data": {
      "text/plain": [
       "'፲፪'"
      ]
     },
     "execution_count": 70,
     "metadata": {},
     "output_type": "execute_result"
    }
   ],
   "source": [
    "arabic2geez(arabicNumber = 12)"
   ]
  },
  {
   "cell_type": "code",
   "execution_count": 78,
   "metadata": {},
   "outputs": [
    {
     "data": {
      "text/plain": [
       "'፲ ነጥብ ፭'"
      ]
     },
     "execution_count": 78,
     "metadata": {},
     "output_type": "execute_result"
    }
   ],
   "source": [
    "getExpandedNumber(number = 10.5)"
   ]
  }
 ],
 "metadata": {
  "kernelspec": {
   "display_name": "Python 3 (ipykernel)",
   "language": "python",
   "name": "python3"
  },
  "language_info": {
   "codemirror_mode": {
    "name": "ipython",
    "version": 3
   },
   "file_extension": ".py",
   "mimetype": "text/x-python",
   "name": "python",
   "nbconvert_exporter": "python",
   "pygments_lexer": "ipython3",
   "version": "3.10.12"
  }
 },
 "nbformat": 4,
 "nbformat_minor": 4
}
