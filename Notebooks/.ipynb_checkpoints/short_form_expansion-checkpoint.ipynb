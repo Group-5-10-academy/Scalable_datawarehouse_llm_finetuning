{
 "cells": [
  {
   "cell_type": "markdown",
   "metadata": {},
   "source": [
    "# Expanding short words"
   ]
  },
  {
   "cell_type": "code",
   "execution_count": null,
   "metadata": {},
   "outputs": [],
   "source": [
    "import re\n",
    "def expand_short_form(short_form):\n",
    "    short_form = short_form.strip()\n",
    "    short_forms = {\n",
    "        \"ት/ቤት\": \"ትምህርት ቤት\",\n",
    "        # Add more short form expansions as needed\n",
    "    }\n",
    "    \n",
    "    if short_form in short_forms:\n",
    "        return short_forms[short_form]\n",
    "    else:\n",
    "        return short_form"
   ]
  }
 ],
 "metadata": {
  "kernelspec": {
   "display_name": "Python 3 (ipykernel)",
   "language": "python",
   "name": "python3"
  },
  "language_info": {
   "codemirror_mode": {
    "name": "ipython",
    "version": 3
   },
   "file_extension": ".py",
   "mimetype": "text/x-python",
   "name": "python",
   "nbconvert_exporter": "python",
   "pygments_lexer": "ipython3",
   "version": "3.10.12"
  }
 },
 "nbformat": 4,
 "nbformat_minor": 4
}
