{
 "cells": [
  {
   "cell_type": "code",
   "execution_count": 18,
   "metadata": {},
   "outputs": [],
   "source": [
    "# Used to import variables from notebook files\n",
    "import nbformat\n",
    "from IPython import get_ipython\n",
    "from IPython.core.interactiveshell import InteractiveShell\n",
    "import re\n",
    "\n",
    "def run_notebook(notebook_path):\n",
    "    with open(notebook_path) as f:\n",
    "        nb = nbformat.read(f, as_version=4)\n",
    "    shell = InteractiveShell.instance()\n",
    "    for cell in nb.cells:\n",
    "        if cell.cell_type == 'code':\n",
    "            shell.run_cell(cell.source)\n",
    "\n",
    "# # Use the function to run the notebook and import its variables\n",
    "# run_notebook('normalizing_amh_lett.ipynb')\n",
    "\n",
    "# # # Now you can access the variables defined in the other notebook\n",
    "# # print(normalized_message)\n"
   ]
  },
  {
   "cell_type": "code",
   "execution_count": 19,
   "metadata": {},
   "outputs": [],
   "source": [
    "# Removing english letters from the data\n",
    "def remove_english(text):\n",
    "    # Use a regular expression to remove English letters and punctuation\n",
    "    cleaned_text = re.sub(r'[A-Za-z]', '', text)\n",
    "    return cleaned_text"
   ]
  },
  {
   "cell_type": "code",
   "execution_count": 20,
   "metadata": {},
   "outputs": [
    {
     "name": "stdout",
     "output_type": "stream",
     "text": [
      "የውጭ አገር የምግብ አቀናባሪ ኩባንያ ሽሮ ወጥን በኢትዮጵያ ውስጥ በፋብሪካ ደረጃ አዘጋጅቶ ለማቅረብ ፍላጎት መኖሩን ተከትሎ የሽሮ ወጥ ደረጃ ማዘጋጀት ማስፈለጉን የኢትዮጵያ ደረጃዎች ኢንስቲትዩት ገለፀ።\n",
      "\n",
      "ኢንስቲትዩቱ ከሽሮ ወጥ በተጨማሪ ወደ ውጭ አገራት የሚላኩ የተለያዩ “አገር በቀል ምርቶችን” የምግብ ደሀንነት እና የምርቱን ምንነት እና ይዘት ለማሳወቅ ደረጃዎች እያወጣ መሆኑንም ለቢቢሲ አመልክቷል።\n",
      "\n",
      "አለም አቀፍ ደረጃዎችን መሰረት በማድረግ የምግብ ይዘታቸው ላይ ጥናት ተደርጎባቸው ደረጃቸው ወጥቷል የተባሉ ምርቶች ሽሮ፣ በርበሬ፣ በሶ እና ጠጅን ያካትታል።\n",
      "\n",
      "ባለፈው አመት ደረጃቸው የወጣላቸው የምግብ ምርቶቹ “ፈቃደኝነት ላይ የተመሰረተ” ቁጥጥር የሚደረግባቸው ሲሆን፣ ደረጃቸውም አስገዳጅ አለመሆኑን ኢንስቲትዩቱ ለቢቢሲ ገልጿል።\n",
      "\n",
      "የሽሮ ዱቄት ደረጃ ሶስት ክፍሎችን የያዘ መሆኑን የተናገሩት የኢንስቲትዩቱ የደረጃዎች ዝግጅት መሪ ስራ አስፈፃሚ አቶ ይልማ መንግስቱ፤ የምግብ ይዘቱን እና እርጥበቱን፣ ሲፈጭ እና ሲታሸግ ያለው ንክኪ እንዲሁም በእሽጉ ላይ ምንነቱን እና የመጠቀሚያ ጊዜውን የሚይዝን መግለጫ ያካተተ ነው ብለዋል።\n",
      "\n",
      "የማሀበረሰቡ አኗኗር እየተለወጠ በመሆኑ ሽሮን ከማዘጋጀት ይልቅ መግዛት በመለመዱ ደረጃውን ማውጣት “ወሳኝ” እንደሆነም ሀላፊው ገልፀዋል።\n",
      "\n",
      "የራሱ የሆነ ምግብ ሂደትን አልፎ እና ተጨማሪ ግብአቶችን ተጠቅሞ ለምግብነት የሚውለው ሽሮ ወጥም ጥራቱ እና ደሀንነቱ እንዲጠበቅ ደረጃ እየተዘጋጀለት መሆኑንም አስረድተዋል።\n",
      "\n",
      "“የወጡ የምግብ ይዘት መታወቅ አለበት። ምን አለው ውስጡ? ያለው ፕሮቲን? በተመሳሳይ ሲቁላላ ወይም ሲበስል፣ ሲታሸግ ወይም በምርት ሂደቱ ላይ የሚመጡ የጤና ጎጂ ነገሮችን የምንከላከልበት [ነው]” ሲሉ ስለ ሽሮ ወጥ ደረጃ አቶ ይልማ ተናግረዋል።\n",
      "\n",
      "ደረጃው የጨው መጠኑ፣ የመጠቀሚያ ጊዜው፣ ለማቆያ ተብለው ጥቅም ላይ የሚውሉ ንጥረ ነገሮችን ጨምሮ ወጡ ላይ የሚጨመሩ ግብአቶች የምግብ ደሀንነትን መከተሉን የሚያረጋግጥ መሆኑን ተገልጿል።\n",
      "\n",
      "“[እሽጉ ላይ] የምግብ ይዘቱ በትክክል መታወቅ አለበት። ያመረተው አካል፣ ግብአቶቹ፣ የመጠቀሚያ ጊዜው ( )፣ እርጥበቱ የመሳሰሉ ነገሮች አብረው ይገለፃሉ።”\n",
      "\n",
      "ይህም የሚሆነው የተጠቃሚውን ደሀንነት ከመጠበቅ ባለፈ አገሪቱ እሴት ጨምራ ምርቶችን ወደ ውጭ እንድትልክ ያበረታታል ሲሉ ስለ ደረጃው ሀላፊው ተናግረዋል።\n",
      "\n",
      "ኢትዮጵያ ውስጥ የምግብ ደረጃ አለመኖሩ “አስቸጋሪ” ነው ያሉት አቶ ይልማ፤ የሽሮ ወጥ ደረጃ  ምግብ ማቀነባበር ላይ የሚሰሩ ድርጅቶችን ለመሳብ እንዲያስችል እየተዘጋጀ መሆኑን አመልክተዋል።\n",
      "\n",
      "በኢንዱስትሪ ፓርኮች ኮርፖሬሽን ጥያቄ አቅራቢነት እየተዘጋጀ ነው የተባለው የሽሮ ወጥ ደረጃ፤ ወጡን አምርቶ ለመሸጥ ከጃፓን ኩባንያ ፍላጎት እንደታየም ሀላፊው ለቢቢሲ ተናግረዋል።\n",
      "\n",
      "“. . . አንድ የጃፓን ኩባንያ እና የእኛ ኢንዱስትሪ ፓርክ ቢሾፍቱ ላይ ማምረቻ ለማቋቋም በሂደት ላይ ነው ያሉት።  ኩባንያው በዋናነት መነሻ ያደረገው ደረጃውን ያሟላ የሽሮ ወጥ ምርትን አዘጋጅቶ፤ አሽጎ ማቅረብ ነው። ስለዚህ [ደረጃው የሚወጣው] ይህን ፍላጎት ለማገዝ ነው” በማለት የነበሩ ዝግጅቶች በመጥቀስ የሽሮ ወጥ ደረጃ ማውጣት ለምን ቅድሚያ እንደተሰጠው ገልፀዋል።\n",
      "\n",
      "ደረጃው ምግብ ኢንዱስትሪውን ለመቀየርም ትልቅ አስተዋፅኦ እንደሚኖረው ታምኖበታል።\n",
      "\n",
      "ከኢትዮጵያ ምግብ እና መድሀኒት ባለስልጣን፣ ከህብረተሰብ ጤና ኢንስቲትዩት፣ ከተለያዩ ተቆጣጣሪ አካላትን እና ከትምህርት ተቋማት እንዲሁም ቤተ ሙከራዎችን በአባልነት የያዘው የባለሙያዎች ኮሚቴ ረቂቅ ደረጃውን አዘጋጅቶ መጨሱም ተነግሯል።\n",
      "\n",
      "ረቂቅ ደረጃው ለ60 ቀናት የህዝብ አስተያት ክፍት ከተደረገ በኋላ ለደረጃዎች ምክር ቤት ቀርቦ ሲፀድቅ ለተቆጣጣሪ አካላት እንደሚቀርብ ተናግረዋል።\n",
      "\n",
      "የደረጃውን አስገዳጅነት በተመለከተ የተጠየቁት አቶ ይልማ ኢንስቲትዩቱ “አስገጃጅ አደረገውም፤ አላደረገውም በምግብ እና መድሀኒት ቁጥጥር ባለስልጣን አዋጅ መሰረት [ግን] አስገዳጅ ነው” ብለዋል።\n",
      "\n",
      "በበርካታ ኢትዮጵያውያን ዘንድ ከእንጀራ ጋር በመቅረብ ዋነኛው የምግብ አካል የሆነው የሽሮ ወጥ ደረጃ እየተዘጋጀለት መሆኑ ከተነገረ በኋላ በማሀበራዊ ሚዲያዎች ላይ መነጋገሪያ ሆኖ ሰንብቷል።\n",
      "\n",
      "ከቅርብ አመታት ወዲህ በተለይ ሽሮ ወጥን ብቻ በማዘጋጀት የሚያቀርቡ ምግብ ቤቶች በመላው አገሪቱ በስፋት የሚታዩ ሲሆን፣ ዋጋውም በከፍተኛ ሁኔታ መጨመሩ ይታወቃል።  \n"
     ]
    }
   ],
   "source": [
    "removed_english = remove_english(normalized_message)\n",
    "print (removed_english)"
   ]
  }
 ],
 "metadata": {
  "kernelspec": {
   "display_name": "Python 3",
   "language": "python",
   "name": "python3"
  },
  "language_info": {
   "codemirror_mode": {
    "name": "ipython",
    "version": 3
   },
   "file_extension": ".py",
   "mimetype": "text/x-python",
   "name": "python",
   "nbconvert_exporter": "python",
   "pygments_lexer": "ipython3",
   "version": "3.11.9"
  }
 },
 "nbformat": 4,
 "nbformat_minor": 2
}
