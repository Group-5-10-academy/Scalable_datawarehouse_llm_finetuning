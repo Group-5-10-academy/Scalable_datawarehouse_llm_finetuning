{
 "cells": [
  {
   "cell_type": "code",
   "execution_count": 14,
   "metadata": {},
   "outputs": [],
   "source": [
    "# Used to import variables from notebook files\n",
    "import nbformat\n",
    "from IPython import get_ipython\n",
    "from IPython.core.interactiveshell import InteractiveShell\n",
    "import re\n",
    "\n",
    "def run_notebook(notebook_path):\n",
    "    with open(notebook_path) as f:\n",
    "        nb = nbformat.read(f, as_version=4)\n",
    "    shell = InteractiveShell.instance()\n",
    "    for cell in nb.cells:\n",
    "        if cell.cell_type == 'code':\n",
    "            shell.run_cell(cell.source)\n",
    "# run_notebook('normalizing_amh_lett.ipynb')\n",
    "# run_notebook('removing_eng_words.ipynb')"
   ]
  },
  {
   "cell_type": "code",
   "execution_count": 15,
   "metadata": {},
   "outputs": [],
   "source": [
    "# Tokenize the words\n",
    "class normalize(object):\n",
    "    def tokenize(self, corpus):\n",
    "        print('Tokenization ...')\n",
    "        all_tokens = []\n",
    "        sentences = re.compile('[!?።(\\፡\\፡)]+').split(corpus)\n",
    "        for sentence in sentences:\n",
    "            tokens = re.split(r'\\s+|:', sentence)\n",
    "            tokens = [token for token in tokens if token]  \n",
    "            all_tokens.extend(tokens)\n",
    "\n",
    "        return all_tokens\n",
    "\n",
    "    def collocation_finder(self,tokens,bigram_dir):\n",
    "   \n",
    "        bigram_measures = nltk.collocations.BigramAssocMeasures()\n",
    "        \n",
    "        #Search for bigrams with in a corpus\n",
    "        finder = BigramCollocationFinder.from_words(tokens)\n",
    "        \n",
    "        #filter only Ngram appears morethan 3+ times\n",
    "        finder.apply_freq_filter(2)\n",
    "        \n",
    "        frequent_bigrams = finder.nbest(bigram_measures.chi_sq,5) # chi square computer \n",
    "        print(frequent_bigrams)\n",
    "        PhraseWriter = io.open(bigram_dir, \"w\", encoding=\"utf8\")\n",
    "        \n",
    "        for bigram in frequent_bigrams:\n",
    "            PhraseWriter.write(bigram[0]+' '+bigram[1] + \"\\n\")\n",
    "   \n",
    "    def normalize_multi_words(self,tokenized_sentence,bigram_dir,corpus):\n",
    "      #bigram_dir: is the directory to store multi-words\n",
    "        bigram=set()\n",
    "        sent_with_bigrams=[]\n",
    "        index=0\n",
    "        if not os.path.exists(bigram_dir):\n",
    "            self.collocation_finder(self.tokenize(corpus),bigram_dir)\n",
    "            #calling itsef\n",
    "            self.normalize_multi_words(tokenized_sentence,bigram_dir,corpus)\n",
    "        else:\n",
    "            text=open(bigram_dir,encoding='utf8')\n",
    "            for line in iter(text):\n",
    "               line=line.strip()\n",
    "               if not line:  # line is blank\n",
    "                   continue\n",
    "               else:\n",
    "                   bigram.add(line)\n",
    "            if len(tokenized_sentence)==1:\n",
    "                sent_with_bigrams=tokenized_sentence\n",
    "            else:\n",
    "                while index <=len(tokenized_sentence)-2:\n",
    "                    mword=tokenized_sentence[index]+' '+tokenized_sentence[index+1]\n",
    "                    if mword in bigram:\n",
    "                        sent_with_bigrams.append(tokenized_sentence[index]+''+tokenized_sentence[index+1])\n",
    "                        index+=1\n",
    "                    else:\n",
    "                        sent_with_bigrams.append(tokenized_sentence[index])\n",
    "                    index+=1\n",
    "                    if index==len(tokenized_sentence)-1:\n",
    "                        sent_with_bigrams.append(tokenized_sentence[index])\n",
    "                \n",
    "            return sent_with_bigrams"
   ]
  },
  {
   "cell_type": "code",
   "execution_count": 17,
   "metadata": {},
   "outputs": [
    {
     "name": "stdout",
     "output_type": "stream",
     "text": [
      "Tokenization ...\n",
      "['የውጭ', 'አገር', 'የምግብ', 'አቀናባሪ', 'ኩባንያ', 'ሽሮ', 'ወጥን', 'በኢትዮጵያ', 'ውስጥ', 'በፋብሪካ', 'ደረጃ', 'አዘጋጅቶ', 'ለማቅረብ', 'ፍላጎት', 'መኖሩን', 'ተከትሎ', 'የሽሮ', 'ወጥ', 'ደረጃ', 'ማዘጋጀት', 'ማስፈለጉን', 'የኢትዮጵያ', 'ደረጃዎች', 'ኢንስቲትዩት', 'ገለፀ', 'ኢንስቲትዩቱ', 'ከሽሮ', 'ወጥ', 'በተጨማሪ', 'ወደ', 'ውጭ', 'አገራት', 'የሚላኩ', 'የተለያዩ', '“አገር', 'በቀል', 'ምርቶችን”', 'የምግብ', 'ደሀንነት', 'እና', 'የምርቱን', 'ምንነት', 'እና', 'ይዘት', 'ለማሳወቅ', 'ደረጃዎች', 'እያወጣ', 'መሆኑንም', 'ለቢቢሲ', 'አመልክቷል', 'አለም', 'አቀፍ', 'ደረጃዎችን', 'መሰረት', 'በማድረግ', 'የምግብ', 'ይዘታቸው', 'ላይ', 'ጥናት', 'ተደርጎባቸው', 'ደረጃቸው', 'ወጥቷል', 'የተባሉ', 'ምርቶች', 'ሽሮ፣', 'በርበሬ፣', 'በሶ', 'እና', 'ጠጅን', 'ያካትታል', 'ባለፈው', 'አመት', 'ደረጃቸው', 'የወጣላቸው', 'የምግብ', 'ምርቶቹ', '“ፈቃደኝነት', 'ላይ', 'የተመሰረተ”', 'ቁጥጥር', 'የሚደረግባቸው', 'ሲሆን፣', 'ደረጃቸውም', 'አስገዳጅ', 'አለመሆኑን', 'ኢንስቲትዩቱ', 'ለቢቢሲ', 'ገልጿል', 'የሽሮ', 'ዱቄት', 'ደረጃ', 'ሶስት', 'ክፍሎችን', 'የያዘ', 'መሆኑን', 'የተናገሩት', 'የኢንስቲትዩቱ', 'የደረጃዎች', 'ዝግጅት', 'መሪ', 'ስራ', 'አስፈፃሚ', 'አቶ', 'ይልማ', 'መንግስቱ፤', 'የምግብ', 'ይዘቱን', 'እና', 'እርጥበቱን፣', 'ሲፈጭ', 'እና', 'ሲታሸግ', 'ያለው', 'ንክኪ', 'እንዲሁም', 'በእሽጉ', 'ላይ', 'ምንነቱን', 'እና', 'የመጠቀሚያ', 'ጊዜውን', 'የሚይዝን', 'መግለጫ', 'ያካተተ', 'ነው', 'ብለዋል', 'የማሀበረሰቡ', 'አኗኗር', 'እየተለወጠ', 'በመሆኑ', 'ሽሮን', 'ከማዘጋጀት', 'ይልቅ', 'መግዛት', 'በመለመዱ', 'ደረጃውን', 'ማውጣት', '“ወሳኝ”', 'እንደሆነም', 'ሀላፊው', 'ገልፀዋል', 'የራሱ', 'የሆነ', 'ምግብ', 'ሂደትን', 'አልፎ', 'እና', 'ተጨማሪ', 'ግብአቶችን', 'ተጠቅሞ', 'ለምግብነት', 'የሚውለው', 'ሽሮ', 'ወጥም', 'ጥራቱ', 'እና', 'ደሀንነቱ', 'እንዲጠበቅ', 'ደረጃ', 'እየተዘጋጀለት', 'መሆኑንም', 'አስረድተዋል', '“የወጡ', 'የምግብ', 'ይዘት', 'መታወቅ', 'አለበት', 'ምን', 'አለው', 'ውስጡ', 'ያለው', 'ፕሮቲን', 'በተመሳሳይ', 'ሲቁላላ', 'ወይም', 'ሲበስል፣', 'ሲታሸግ', 'ወይም', 'በምርት', 'ሂደቱ', 'ላይ', 'የሚመጡ', 'የጤና', 'ጎጂ', 'ነገሮችን', 'የምንከላከልበት', '[ነው]”', 'ሲሉ', 'ስለ', 'ሽሮ', 'ወጥ', 'ደረጃ', 'አቶ', 'ይልማ', 'ተናግረዋል', 'ደረጃው', 'የጨው', 'መጠኑ፣', 'የመጠቀሚያ', 'ጊዜው፣', 'ለማቆያ', 'ተብለው', 'ጥቅም', 'ላይ', 'የሚውሉ', 'ንጥረ', 'ነገሮችን', 'ጨምሮ', 'ወጡ', 'ላይ', 'የሚጨመሩ', 'ግብአቶች', 'የምግብ', 'ደሀንነትን', 'መከተሉን', 'የሚያረጋግጥ', 'መሆኑን', 'ተገልጿል', '“[እሽጉ', 'ላይ]', 'የምግብ', 'ይዘቱ', 'በትክክል', 'መታወቅ', 'አለበት', 'ያመረተው', 'አካል፣', 'ግብአቶቹ፣', 'የመጠቀሚያ', 'ጊዜው', '፣', 'እርጥበቱ', 'የመሳሰሉ', 'ነገሮች', 'አብረው', 'ይገለፃሉ', '”', 'ይህም', 'የሚሆነው', 'የተጠቃሚውን', 'ደሀንነት', 'ከመጠበቅ', 'ባለፈ', 'አገሪቱ', 'እሴት', 'ጨምራ', 'ምርቶችን', 'ወደ', 'ውጭ', 'እንድትልክ', 'ያበረታታል', 'ሲሉ', 'ስለ', 'ደረጃው', 'ሀላፊው', 'ተናግረዋል', 'ኢትዮጵያ', 'ውስጥ', 'የምግብ', 'ደረጃ', 'አለመኖሩ', '“አስቸጋሪ”', 'ነው', 'ያሉት', 'አቶ', 'ይልማ፤', 'የሽሮ', 'ወጥ', 'ደረጃ', 'ምግብ', 'ማቀነባበር', 'ላይ', 'የሚሰሩ', 'ድርጅቶችን', 'ለመሳብ', 'እንዲያስችል', 'እየተዘጋጀ', 'መሆኑን', 'አመልክተዋል', 'በኢንዱስትሪ', 'ፓርኮች', 'ኮርፖሬሽን', 'ጥያቄ', 'አቅራቢነት', 'እየተዘጋጀ', 'ነው', 'የተባለው', 'የሽሮ', 'ወጥ', 'ደረጃ፤', 'ወጡን', 'አምርቶ', 'ለመሸጥ', 'ከጃፓን', 'ኩባንያ', 'ፍላጎት', 'እንደታየም', 'ሀላፊው', 'ለቢቢሲ', 'ተናግረዋል', '“.', '.', '.', 'አንድ', 'የጃፓን', 'ኩባንያ', 'እና', 'የእኛ', 'ኢንዱስትሪ', 'ፓርክ', 'ቢሾፍቱ', 'ላይ', 'ማምረቻ', 'ለማቋቋም', 'በሂደት', 'ላይ', 'ነው', 'ያሉት', 'ኩባንያው', 'በዋናነት', 'መነሻ', 'ያደረገው', 'ደረጃውን', 'ያሟላ', 'የሽሮ', 'ወጥ', 'ምርትን', 'አዘጋጅቶ፤', 'አሽጎ', 'ማቅረብ', 'ነው', 'ስለዚህ', '[ደረጃው', 'የሚወጣው]', 'ይህን', 'ፍላጎት', 'ለማገዝ', 'ነው”', 'በማለት', 'የነበሩ', 'ዝግጅቶች', 'በመጥቀስ', 'የሽሮ', 'ወጥ', 'ደረጃ', 'ማውጣት', 'ለምን', 'ቅድሚያ', 'እንደተሰጠው', 'ገልፀዋል', 'ደረጃው', 'ምግብ', 'ኢንዱስትሪውን', 'ለመቀየርም', 'ትልቅ', 'አስተዋፅኦ', 'እንደሚኖረው', 'ታምኖበታል', 'ከኢትዮጵያ', 'ምግብ', 'እና', 'መድሀኒት', 'ባለስልጣን፣', 'ከህብረተሰብ', 'ጤና', 'ኢንስቲትዩት፣', 'ከተለያዩ', 'ተቆጣጣሪ', 'አካላትን', 'እና', 'ከትምህርት', 'ተቋማት', 'እንዲሁም', 'ቤተ', 'ሙከራዎችን', 'በአባልነት', 'የያዘው', 'የባለሙያዎች', 'ኮሚቴ', 'ረቂቅ', 'ደረጃውን', 'አዘጋጅቶ', 'መጨሱም', 'ተነግሯል', 'ረቂቅ', 'ደረጃው', 'ለ60', 'ቀናት', 'የህዝብ', 'አስተያት', 'ክፍት', 'ከተደረገ', 'በኋላ', 'ለደረጃዎች', 'ምክር', 'ቤት', 'ቀርቦ', 'ሲፀድቅ', 'ለተቆጣጣሪ', 'አካላት', 'እንደሚቀርብ', 'ተናግረዋል', 'የደረጃውን', 'አስገዳጅነት', 'በተመለከተ', 'የተጠየቁት', 'አቶ', 'ይልማ', 'ኢንስቲትዩቱ', '“አስገጃጅ', 'አደረገውም፤', 'አላደረገውም', 'በምግብ', 'እና', 'መድሀኒት', 'ቁጥጥር', 'ባለስልጣን', 'አዋጅ', 'መሰረት', '[ግን]', 'አስገዳጅ', 'ነው”', 'ብለዋል', 'በበርካታ', 'ኢትዮጵያውያን', 'ዘንድ', 'ከእንጀራ', 'ጋር', 'በመቅረብ', 'ዋነኛው', 'የምግብ', 'አካል', 'የሆነው', 'የሽሮ', 'ወጥ', 'ደረጃ', 'እየተዘጋጀለት', 'መሆኑ', 'ከተነገረ', 'በኋላ', 'በማሀበራዊ', 'ሚዲያዎች', 'ላይ', 'መነጋገሪያ', 'ሆኖ', 'ሰንብቷል', 'ከቅርብ', 'አመታት', 'ወዲህ', 'በተለይ', 'ሽሮ', 'ወጥን', 'ብቻ', 'በማዘጋጀት', 'የሚያቀርቡ', 'ምግብ', 'ቤቶች', 'በመላው', 'አገሪቱ', 'በስፋት', 'የሚታዩ', 'ሲሆን፣', 'ዋጋውም', 'በከፍተኛ', 'ሁኔታ', 'መጨመሩ', 'ይታወቃል']\n"
     ]
    }
   ],
   "source": [
    "normalizer = normalize()\n",
    "corpus = removed_english\n",
    "tokens = normalizer.tokenize(corpus)\n",
    "print(tokens)"
   ]
  }
 ],
 "metadata": {
  "kernelspec": {
   "display_name": "Python 3",
   "language": "python",
   "name": "python3"
  },
  "language_info": {
   "codemirror_mode": {
    "name": "ipython",
    "version": 3
   },
   "file_extension": ".py",
   "mimetype": "text/x-python",
   "name": "python",
   "nbconvert_exporter": "python",
   "pygments_lexer": "ipython3",
   "version": "3.11.9"
  }
 },
 "nbformat": 4,
 "nbformat_minor": 2
}
