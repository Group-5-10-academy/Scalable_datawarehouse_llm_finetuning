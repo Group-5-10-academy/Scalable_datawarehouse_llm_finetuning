{
 "cells": [
  {
   "cell_type": "code",
   "execution_count": 1,
   "metadata": {},
   "outputs": [],
   "source": [
    "import re"
   ]
  },
  {
   "cell_type": "code",
   "execution_count": 2,
   "metadata": {},
   "outputs": [],
   "source": [
    "# Normalize amharic letters\n",
    "def normalize_char_level_missmatch(input_token):\n",
    "        rep1=re.sub('[ሃኅኃሐሓኻ]','ሀ',input_token)\n",
    "        rep2=re.sub('[ሑኁዅ]','ሁ',rep1)\n",
    "        rep3=re.sub('[ኂሒኺ]','ሂ',rep2)\n",
    "        rep4=re.sub('[ኌሔዄ]','ሄ',rep3)\n",
    "        rep5=re.sub('[ሕኅ]','ህ',rep4)\n",
    "        rep6=re.sub('[ኆሖኾ]','ሆ',rep5)\n",
    "        rep7=re.sub('[ሠ]','ሰ',rep6)\n",
    "        rep8=re.sub('[ሡ]','ሱ',rep7)\n",
    "        rep9=re.sub('[ሢ]','ሲ',rep8)\n",
    "        rep10=re.sub('[ሣ]','ሳ',rep9)\n",
    "        rep11=re.sub('[ሤ]','ሴ',rep10)\n",
    "        rep12=re.sub('[ሥ]','ስ',rep11)\n",
    "        rep13=re.sub('[ሦ]','ሶ',rep12)\n",
    "        rep14=re.sub('[ዓኣዐ]','አ',rep13)\n",
    "        rep15=re.sub('[ዑ]','ኡ',rep14)\n",
    "        rep16=re.sub('[ዒ]','ኢ',rep15)\n",
    "        rep17=re.sub('[ዔ]','ኤ',rep16)\n",
    "        rep18=re.sub('[ዕ]','እ',rep17)\n",
    "        rep19=re.sub('[ዖ]','ኦ',rep18)\n",
    "        rep20=re.sub('[ጸ]','ፀ',rep19)\n",
    "        rep21=re.sub('[ጹ]','ፁ',rep20)\n",
    "        rep22=re.sub('[ጺ]','ፂ',rep21)\n",
    "        rep23=re.sub('[ጻ]','ፃ',rep22)\n",
    "        rep24=re.sub('[ጼ]','ፄ',rep23)\n",
    "        rep25=re.sub('[ጽ]','ፅ',rep24)\n",
    "        rep26=re.sub('[ጾ]','ፆ',rep25)\n",
    "        #Normalizing words with Labialized Amharic characters such as በልቱዋል or  በልቱአል to  በልቷል  \n",
    "        rep27=re.sub('(ሉ[ዋአ])','ሏ',rep26)\n",
    "        rep28=re.sub('(ሙ[ዋአ])','ሟ',rep27)\n",
    "        rep29=re.sub('(ቱ[ዋአ])','ቷ',rep28)\n",
    "        rep30=re.sub('(ሩ[ዋአ])','ሯ',rep29)\n",
    "        rep31=re.sub('(ሱ[ዋአ])','ሷ',rep30)\n",
    "        rep32=re.sub('(ሹ[ዋአ])','ሿ',rep31)\n",
    "        rep33=re.sub('(ቁ[ዋአ])','ቋ',rep32)\n",
    "        rep34=re.sub('(ቡ[ዋአ])','ቧ',rep33)\n",
    "        rep35=re.sub('(ቹ[ዋአ])','ቿ',rep34)\n",
    "        rep36=re.sub('(ሁ[ዋአ])','ኋ',rep35)\n",
    "        rep37=re.sub('(ኑ[ዋአ])','ኗ',rep36)\n",
    "        rep38=re.sub('(ኙ[ዋአ])','ኟ',rep37)\n",
    "        rep39=re.sub('(ኩ[ዋአ])','ኳ',rep38)\n",
    "        rep40=re.sub('(ዙ[ዋአ])','ዟ',rep39)\n",
    "        rep41=re.sub('(ጉ[ዋአ])','ጓ',rep40)\n",
    "        rep42=re.sub('(ደ[ዋአ])','ዷ',rep41)\n",
    "        rep43=re.sub('(ጡ[ዋአ])','ጧ',rep42)\n",
    "        rep44=re.sub('(ጩ[ዋአ])','ጯ',rep43)\n",
    "        rep45=re.sub('(ጹ[ዋአ])','ጿ',rep44)\n",
    "        rep46=re.sub('(ፉ[ዋአ])','ፏ',rep45)\n",
    "        rep47=re.sub('[ቊ]','ቁ',rep46) #ቁ can be written as ቊ\n",
    "        rep48=re.sub('[ኵ]','ኩ',rep47) #ኩ can be also written as ኵ  \n",
    "        return rep48\n",
    "\n"
   ]
  }
 ],
 "metadata": {
  "kernelspec": {
   "display_name": "Python 3",
   "language": "python",
   "name": "python3"
  },
  "language_info": {
   "codemirror_mode": {
    "name": "ipython",
    "version": 3
   },
   "file_extension": ".py",
   "mimetype": "text/x-python",
   "name": "python",
   "nbconvert_exporter": "python",
   "pygments_lexer": "ipython3",
   "version": "3.8.10"
  }
 },
 "nbformat": 4,
 "nbformat_minor": 2
}
